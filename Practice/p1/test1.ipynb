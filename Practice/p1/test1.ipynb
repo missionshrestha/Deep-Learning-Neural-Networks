{
 "cells": [
  {
   "cell_type": "code",
   "execution_count": 9,
   "metadata": {},
   "outputs": [
    {
     "data": {
      "text/plain": [
       "' import tensorflow as tf\\nhello = tf.constant(\"Hello TensorFlow!\")\\nsess = tf.Session()\\nprint(sess.run(hello))\\n# newer version doesn\\'t support this\\n '"
      ]
     },
     "execution_count": 9,
     "metadata": {},
     "output_type": "execute_result"
    }
   ],
   "source": [
    "\"\"\" import tensorflow as tf\n",
    "hello = tf.constant(\"Hello TensorFlow!\")\n",
    "sess = tf.Session()\n",
    "print(sess.run(hello))\n",
    "# newer version doesn't support this\n",
    " \"\"\""
   ]
  },
  {
   "cell_type": "code",
   "execution_count": 2,
   "metadata": {},
   "outputs": [
    {
     "name": "stdout",
     "output_type": "stream",
     "text": [
      "b'Hello TensorFlow!'\n"
     ]
    }
   ],
   "source": [
    "\n",
    "# Basic tensorflow execution in version1\n",
    "import tensorflow as tf\n",
    "# required to use version 1\n",
    "tf.compat.v1.disable_eager_execution()\n",
    "hello = tf.constant(\"Hello TensorFlow!\")\n",
    "sess = tf.compat.v1.Session()\n",
    "print(sess.run(hello))"
   ]
  },
  {
   "cell_type": "code",
   "execution_count": 2,
   "metadata": {},
   "outputs": [
    {
     "name": "stdout",
     "output_type": "stream",
     "text": [
      "Tensor(\"Add:0\", shape=(), dtype=int32)\n",
      "5\n"
     ]
    }
   ],
   "source": [
    "# a basic addition operation:\n",
    "x = 2\n",
    "y = 3\n",
    "z = tf.add(x, y, name='Add')\n",
    "print(z)\n",
    "print(sess.run(z))"
   ]
  },
  {
   "cell_type": "code",
   "execution_count": 3,
   "metadata": {},
   "outputs": [
    {
     "name": "stdout",
     "output_type": "stream",
     "text": [
      "PyGraph<2195465963984>\n"
     ]
    }
   ],
   "source": [
    "graph = tf.Graph()\n",
    "with graph.as_default():\n",
    "    z = tf.add(x, y, name='Add')\n",
    "    print(graph)"
   ]
  },
  {
   "cell_type": "code",
   "execution_count": 19,
   "metadata": {},
   "outputs": [
    {
     "name": "stdout",
     "output_type": "stream",
     "text": [
      "x_var_1:0\n",
      "1212\n"
     ]
    }
   ],
   "source": [
    "# Variables\n",
    "\n",
    "with tf.compat.v1.Session() as sess:\n",
    "  x = tf.Variable(1212,name=\"x_var\")\n",
    "  init = tf.compat.v1.global_variables_initializer()\n",
    "  sess.run(init)\n",
    "  print(x.name)\n",
    "  print(sess.run(x))"
   ]
  },
  {
   "cell_type": "code",
   "execution_count": 21,
   "metadata": {},
   "outputs": [
    {
     "name": "stdout",
     "output_type": "stream",
     "text": [
      "<tf.Variable 'scope/x:0' shape=(2,) dtype=float32>\n",
      "scope/x:0\n"
     ]
    }
   ],
   "source": [
    "\n",
    "with tf.compat.v1.variable_scope(\"scope\", reuse = True):\n",
    "  b = tf.compat.v1.get_variable('x', [2])\n",
    "  print(b)\n",
    "  print(b.name)"
   ]
  },
  {
   "cell_type": "code",
   "execution_count": 22,
   "metadata": {},
   "outputs": [
    {
     "name": "stdout",
     "output_type": "stream",
     "text": [
      "Tensor(\"Const_1:0\", shape=(), dtype=int32)\n",
      "13\n"
     ]
    }
   ],
   "source": [
    "with tf.compat.v1.Session() as sess:\n",
    "    m1=tf.constant(13)\n",
    "    print(m1)\n",
    "    print(sess.run(m1))\n",
    "    \n",
    "    # Error\n",
    "    # with tf.compat.v1.variable_scope(\"scope\", reuse = True):\n",
    "    #     n1=tf.compat.v1.get_variable('m1',[2])\n",
    "    # print(n1)\n",
    "    # print(sess.run(n1))"
   ]
  },
  {
   "cell_type": "code",
   "execution_count": 23,
   "metadata": {},
   "outputs": [
    {
     "name": "stdout",
     "output_type": "stream",
     "text": [
      "8.0\n"
     ]
    }
   ],
   "source": [
    "with tf.compat.v1.Session() as sess:\n",
    "  x = tf.compat.v1.placeholder(\"float\", None)\n",
    "  y = x + 3\n",
    "  result = sess.run(y, feed_dict={x: 5})\n",
    "  print(result)"
   ]
  },
  {
   "cell_type": "code",
   "execution_count": 24,
   "metadata": {},
   "outputs": [
    {
     "name": "stdout",
     "output_type": "stream",
     "text": [
      "[ 8. 13. 18.]\n"
     ]
    }
   ],
   "source": [
    "with tf.compat.v1.Session() as sess:\n",
    "  x = tf.compat.v1.placeholder(\"float\", None)\n",
    "  y = x + 3\n",
    "  result = sess.run(y, feed_dict={x: [5,10,15]})\n",
    "  print(result)"
   ]
  },
  {
   "cell_type": "code",
   "execution_count": 25,
   "metadata": {},
   "outputs": [
    {
     "name": "stdout",
     "output_type": "stream",
     "text": [
      "[[ 4.  5.]\n",
      " [ 6.  7.]\n",
      " [ 8.  9.]\n",
      " [10. 11.]]\n"
     ]
    }
   ],
   "source": [
    "with tf.compat.v1.Session() as sess:\n",
    "  x1 = tf.compat.v1.placeholder(\"float\", [None, 2])\n",
    "  y1=x1+3\n",
    "  x1_values = [[1, 2,],\n",
    "  [3,4],\n",
    "  [5,6],\n",
    "  [7,8],]\n",
    "  result1 = sess.run(y1, feed_dict={x1: x1_values})\n",
    "  print(result1)\n"
   ]
  },
  {
   "cell_type": "code",
   "execution_count": 26,
   "metadata": {},
   "outputs": [
    {
     "name": "stdout",
     "output_type": "stream",
     "text": [
      "14\n"
     ]
    }
   ],
   "source": [
    "with tf.compat.v1.Session() as sess:\n",
    "    x=tf.constant(1,name='x')\n",
    "    y=tf.constant(2,name='y')\n",
    "    a=tf.constant(3,name='a')\n",
    "    b=tf.constant(4,name='b')\n",
    "    \n",
    "    prod1 = tf.multiply(x,y,name='prod1')\n",
    "    prod2 = tf.multiply(a,b,name='prod2')\n",
    "    sum = tf.add(prod1,prod2,name='sum')\n",
    "    # writer = tf.compat.v1.summary.FileWriter(logdir='./graph',graph=sess.graph)\n",
    "    print(sess.run(sum))"
   ]
  },
  {
   "cell_type": "code",
   "execution_count": 27,
   "metadata": {},
   "outputs": [
    {
     "data": {
      "text/plain": [
       "Reusing TensorBoard on port 6006 (pid 16288), started 0:13:33 ago. (Use '!kill 16288' to kill it.)"
      ]
     },
     "metadata": {},
     "output_type": "display_data"
    },
    {
     "data": {
      "text/html": [
       "\n",
       "      <iframe id=\"tensorboard-frame-8c3d606bb0934769\" width=\"100%\" height=\"800\" frameborder=\"0\">\n",
       "      </iframe>\n",
       "      <script>\n",
       "        (function() {\n",
       "          const frame = document.getElementById(\"tensorboard-frame-8c3d606bb0934769\");\n",
       "          const url = new URL(\"http://localhost\");\n",
       "          const port = 6006;\n",
       "          if (port) {\n",
       "            url.port = port;\n",
       "          }\n",
       "          frame.src = url;\n",
       "        })();\n",
       "      </script>\n",
       "    "
      ],
      "text/plain": [
       "<IPython.core.display.HTML object>"
      ]
     },
     "metadata": {},
     "output_type": "display_data"
    }
   ],
   "source": [
    "%load_ext tensorboard\n",
    "%tensorboard --logdir=graph --port=6006"
   ]
  },
  {
   "cell_type": "code",
   "execution_count": 3,
   "metadata": {},
   "outputs": [
    {
     "name": "stdout",
     "output_type": "stream",
     "text": [
      "10\n"
     ]
    }
   ],
   "source": [
    "with tf.compat.v1.Session() as sess:\n",
    "    x = tf.constant(1, name='x')\n",
    "    y = tf.constant(1, name='y')\n",
    "    a = tf.constant(3, name='a')\n",
    "    b = tf.constant(3, name='b')\n",
    "\n",
    "    with tf.name_scope(\"Product\"):\n",
    "        with tf.name_scope(\"prod1\"):\n",
    "            prod1 = tf.multiply(x, y, name='prod1')\n",
    "        with tf.name_scope(\"prod2\"):\n",
    "            prod2 = tf.multiply(a, b, name='prod2')\n",
    "\n",
    "    with tf.name_scope(\"sum\"):\n",
    "        sum = tf.add(prod1, prod2, name='sum')\n",
    "\n",
    "    writer = tf.compat.v1.summary.FileWriter(\n",
    "        logdir='./graph', graph=sess.graph)\n",
    "    print(sess.run(sum))"
   ]
  },
  {
   "cell_type": "code",
   "execution_count": 29,
   "metadata": {},
   "outputs": [
    {
     "name": "stdout",
     "output_type": "stream",
     "text": [
      "The tensorboard extension is already loaded. To reload it, use:\n",
      "  %reload_ext tensorboard\n"
     ]
    },
    {
     "data": {
      "text/plain": [
       "Reusing TensorBoard on port 6006 (pid 16288), started 0:14:55 ago. (Use '!kill 16288' to kill it.)"
      ]
     },
     "metadata": {},
     "output_type": "display_data"
    },
    {
     "data": {
      "text/html": [
       "\n",
       "      <iframe id=\"tensorboard-frame-b921a1146406d003\" width=\"100%\" height=\"800\" frameborder=\"0\">\n",
       "      </iframe>\n",
       "      <script>\n",
       "        (function() {\n",
       "          const frame = document.getElementById(\"tensorboard-frame-b921a1146406d003\");\n",
       "          const url = new URL(\"http://localhost\");\n",
       "          const port = 6006;\n",
       "          if (port) {\n",
       "            url.port = port;\n",
       "          }\n",
       "          frame.src = url;\n",
       "        })();\n",
       "      </script>\n",
       "    "
      ],
      "text/plain": [
       "<IPython.core.display.HTML object>"
      ]
     },
     "metadata": {},
     "output_type": "display_data"
    }
   ],
   "source": [
    "%load_ext tensorboard\n",
    "%tensorboard --logdir=graph --port=6006\n"
   ]
  }
 ],
 "metadata": {
  "kernelspec": {
   "display_name": "Python 3",
   "language": "python",
   "name": "python3"
  },
  "language_info": {
   "codemirror_mode": {
    "name": "ipython",
    "version": 3
   },
   "file_extension": ".py",
   "mimetype": "text/x-python",
   "name": "python",
   "nbconvert_exporter": "python",
   "pygments_lexer": "ipython3",
   "version": "3.11.0"
  },
  "orig_nbformat": 4
 },
 "nbformat": 4,
 "nbformat_minor": 2
}
